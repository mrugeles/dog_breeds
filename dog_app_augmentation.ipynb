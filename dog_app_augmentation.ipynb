{
 "cells": [
  {
   "cell_type": "code",
   "execution_count": 1,
   "metadata": {
    "colab": {
     "base_uri": "https://localhost:8080/",
     "height": 153
    },
    "colab_type": "code",
    "id": "Zl6ehaVtix6x",
    "outputId": "0c617cc3-5fa7-4243-aff6-9f97bb61058a"
   },
   "outputs": [
    {
     "name": "stderr",
     "output_type": "stream",
     "text": [
      "Using TensorFlow backend.\n"
     ]
    },
    {
     "name": "stdout",
     "output_type": "stream",
     "text": [
      "There are 133 total dog categories.\n",
      "There are 8351 total dog images.\n",
      "\n",
      "There are 6680 training dog images.\n",
      "There are 835 validation dog images.\n",
      "There are 836 test dog images.\n",
      "Load time: 44.620032\n"
     ]
    }
   ],
   "source": [
    "from sklearn.datasets import load_files       \n",
    "from keras.utils import np_utils\n",
    "import numpy as np\n",
    "from glob import glob\n",
    "from time import time\n",
    "\n",
    "\n",
    "PATH = \"./\"\n",
    "\n",
    "# define function to load train, test, and validation datasets\n",
    "def load_dataset(path):\n",
    "    data = load_files(path)\n",
    "    dog_files = np.array(data['filenames'])\n",
    "    dog_targets = np_utils.to_categorical(np.array(data['target']), 133)\n",
    "    return dog_files, dog_targets\n",
    "\n",
    "start = time()\n",
    "\n",
    "# load train, test, and validation datasets\n",
    "train_files, train_targets = load_dataset(PATH + 'dogImages/train')\n",
    "valid_files, valid_targets = load_dataset(PATH + 'dogImages/valid')\n",
    "test_files, test_targets = load_dataset(PATH + 'dogImages/test')\n",
    "\n",
    "# load list of dog names\n",
    "dog_names = [item[20:-1] for item in sorted(glob(PATH + \"dogImages/train/*/\"))]\n",
    "\n",
    "# print statistics about the dataset\n",
    "print('There are %d total dog categories.' % len(dog_names))\n",
    "print('There are %s total dog images.\\n' % len(np.hstack([train_files, valid_files, test_files])))\n",
    "print('There are %d training dog images.' % len(train_files))\n",
    "print('There are %d validation dog images.' % len(valid_files))\n",
    "print('There are %d test dog images.'% len(test_files))\n",
    "\n",
    "load_time = time() - start\n",
    "print(\"Load time: %f\"%load_time)"
   ]
  },
  {
   "cell_type": "code",
   "execution_count": 0,
   "metadata": {
    "colab": {},
    "colab_type": "code",
    "id": "eWEf8fzzswCA"
   },
   "outputs": [],
   "source": [
    "from keras.preprocessing import image                  \n",
    "from tqdm import tqdm\n",
    "\n",
    "def path_to_tensor(img_path):\n",
    "    # loads RGB image as PIL.Image.Image type\n",
    "    img = image.load_img(img_path, target_size=(224, 224))\n",
    "    # convert PIL.Image.Image type to 3D tensor with shape (224, 224, 3)\n",
    "    x = image.img_to_array(img)\n",
    "    # convert 3D tensor to 4D tensor with shape (1, 224, 224, 3) and return 4D tensor\n",
    "    return np.expand_dims(x, axis=0)\n",
    "\n",
    "def paths_to_tensor(img_paths):\n",
    "    list_of_tensors = [path_to_tensor(img_path) for img_path in tqdm(img_paths)]\n",
    "    return np.vstack(list_of_tensors)"
   ]
  },
  {
   "cell_type": "code",
   "execution_count": 32,
   "metadata": {
    "colab": {
     "base_uri": "https://localhost:8080/",
     "height": 725
    },
    "colab_type": "code",
    "id": "JKEdUGa7xOLI",
    "outputId": "3af001a0-bf4c-4adf-a1e3-deaf7bd19211"
   },
   "outputs": [
    {
     "data": {
      "text/html": [
       "<div>\n",
       "<style scoped>\n",
       "    .dataframe tbody tr th:only-of-type {\n",
       "        vertical-align: middle;\n",
       "    }\n",
       "\n",
       "    .dataframe tbody tr th {\n",
       "        vertical-align: top;\n",
       "    }\n",
       "\n",
       "    .dataframe thead th {\n",
       "        text-align: right;\n",
       "    }\n",
       "</style>\n",
       "<table border=\"1\" class=\"dataframe\">\n",
       "  <thead>\n",
       "    <tr style=\"text-align: right;\">\n",
       "      <th></th>\n",
       "      <th>target</th>\n",
       "      <th>breed</th>\n",
       "      <th>folder</th>\n",
       "      <th>count</th>\n",
       "    </tr>\n",
       "  </thead>\n",
       "  <tbody>\n",
       "    <tr>\n",
       "      <th>0</th>\n",
       "      <td>1</td>\n",
       "      <td>Affenpinscher</td>\n",
       "      <td>/content/drive/My Drive/Colab Notebooks/dogIma...</td>\n",
       "      <td>64</td>\n",
       "    </tr>\n",
       "    <tr>\n",
       "      <th>1</th>\n",
       "      <td>2</td>\n",
       "      <td>Afghan_hound</td>\n",
       "      <td>/content/drive/My Drive/Colab Notebooks/dogIma...</td>\n",
       "      <td>58</td>\n",
       "    </tr>\n",
       "    <tr>\n",
       "      <th>2</th>\n",
       "      <td>3</td>\n",
       "      <td>Airedale_terrier</td>\n",
       "      <td>/content/drive/My Drive/Colab Notebooks/dogIma...</td>\n",
       "      <td>52</td>\n",
       "    </tr>\n",
       "    <tr>\n",
       "      <th>3</th>\n",
       "      <td>4</td>\n",
       "      <td>Akita</td>\n",
       "      <td>/content/drive/My Drive/Colab Notebooks/dogIma...</td>\n",
       "      <td>63</td>\n",
       "    </tr>\n",
       "    <tr>\n",
       "      <th>4</th>\n",
       "      <td>5</td>\n",
       "      <td>Alaskan_malamute</td>\n",
       "      <td>/content/drive/My Drive/Colab Notebooks/dogIma...</td>\n",
       "      <td>77</td>\n",
       "    </tr>\n",
       "  </tbody>\n",
       "</table>\n",
       "</div>"
      ],
      "text/plain": [
       "   target             breed  \\\n",
       "0       1     Affenpinscher   \n",
       "1       2      Afghan_hound   \n",
       "2       3  Airedale_terrier   \n",
       "3       4             Akita   \n",
       "4       5  Alaskan_malamute   \n",
       "\n",
       "                                              folder  count  \n",
       "0  /content/drive/My Drive/Colab Notebooks/dogIma...     64  \n",
       "1  /content/drive/My Drive/Colab Notebooks/dogIma...     58  \n",
       "2  /content/drive/My Drive/Colab Notebooks/dogIma...     52  \n",
       "3  /content/drive/My Drive/Colab Notebooks/dogIma...     63  \n",
       "4  /content/drive/My Drive/Colab Notebooks/dogIma...     77  "
      ]
     },
     "metadata": {
      "tags": []
     },
     "output_type": "display_data"
    },
    {
     "data": {
      "text/plain": [
       "<matplotlib.axes._subplots.AxesSubplot at 0x7f07424b3828>"
      ]
     },
     "execution_count": 32,
     "metadata": {
      "tags": []
     },
     "output_type": "execute_result"
    },
    {
     "data": {
      "image/png": "[encoded data removed]",
      "text/plain": [
       "<Figure size 1440x360 with 1 Axes>"
      ]
     },
     "metadata": {
      "tags": []
     },
     "output_type": "display_data"
    }
   ],
   "source": [
    "from matplotlib import pyplot as plt \n",
    "import pandas as pd\n",
    "import os.path\n",
    "\n",
    "folders = [(int(path[56:59]), path[60:-1], path, len([f for f in os.listdir(path)if os.path.isfile(os.path.join(path, f))])) for path in sorted(glob(PATH + 'dogImages/train/*/'))]\n",
    "folders = pd.DataFrame(folders, columns = ['target', 'breed', 'folder', 'count'])\n",
    "display(folders.head())\n",
    "\n",
    "\n",
    "folders[['breed', 'count']].plot.bar(x = 'breed', figsize = (20, 5))"
   ]
  },
  {
   "cell_type": "code",
   "execution_count": 41,
   "metadata": {
    "colab": {
     "base_uri": "https://localhost:8080/",
     "height": 71
    },
    "colab_type": "code",
    "id": "b117naRXzhMf",
    "outputId": "478109d9-1e6f-42b7-ae8c-e85498175cde"
   },
   "outputs": [
    {
     "name": "stdout",
     "output_type": "stream",
     "text": [
      "['Affenpinscher_00037.jpg', 'Affenpinscher_00008.jpg', 'Affenpinscher_00034.jpg', 'Affenpinscher_00020.jpg', 'Affenpinscher_00022.jpg', 'Affenpinscher_00009.jpg', 'Affenpinscher_00019.jpg', 'Affenpinscher_00021.jpg', 'Affenpinscher_00035.jpg', 'Affenpinscher_00025.jpg', 'Affenpinscher_00031.jpg', 'Affenpinscher_00018.jpg', 'Affenpinscher_00027.jpg', 'Affenpinscher_00033.jpg', 'Affenpinscher_00024.jpg', 'Affenpinscher_00032.jpg', 'Affenpinscher_00026.jpg', 'Affenpinscher_00030.jpg', 'Affenpinscher_00054.jpg', 'Affenpinscher_00043.jpg', 'Affenpinscher_00080.jpg', 'Affenpinscher_00069.jpg', 'Affenpinscher_00057.jpg', 'Affenpinscher_00079.jpg', 'Affenpinscher_00051.jpg', 'Affenpinscher_00075.jpg', 'Affenpinscher_00045.jpg', 'Affenpinscher_00053.jpg', 'Affenpinscher_00046.jpg', 'Affenpinscher_00056.jpg', 'Affenpinscher_00052.jpg', 'Affenpinscher_00050.jpg', 'Affenpinscher_00044.jpg', 'Affenpinscher_00061.jpg', 'Affenpinscher_00060.jpg', 'Affenpinscher_00077.jpg', 'Affenpinscher_00073.jpg', 'Affenpinscher_00072.jpg', 'Affenpinscher_00062.jpg', 'Affenpinscher_00076.jpg', 'Affenpinscher_00067.jpg', 'Affenpinscher_00063.jpg', 'Affenpinscher_00066.jpg', 'Affenpinscher_00065.jpg', 'Affenpinscher_00059.jpg', 'Affenpinscher_00064.jpg', 'Affenpinscher_00070.jpg', 'Affenpinscher_00002.jpg', 'Affenpinscher_00029.jpg', 'Affenpinscher_00028.jpg', 'Affenpinscher_00010.jpg', 'Affenpinscher_00001.jpg', 'Affenpinscher_00017.jpg', 'Affenpinscher_00015.jpg', 'Affenpinscher_00016.jpg', 'Affenpinscher_00014.jpg', 'Affenpinscher_00004.jpg', 'Affenpinscher_00011.jpg', 'Affenpinscher_00005.jpg', 'Affenpinscher_00007.jpg', 'Affenpinscher_00006.jpg', 'Affenpinscher_00039.jpg', 'Affenpinscher_00012.jpg', 'Affenpinscher_00013.jpg']\n",
      "['Affenpinscher_00065.jpg', 'Affenpinscher_00021.jpg', 'Affenpinscher_00001.jpg', 'Affenpinscher_00027.jpg', 'Affenpinscher_00011.jpg', 'Affenpinscher_00079.jpg', 'Affenpinscher_00034.jpg', 'Affenpinscher_00039.jpg', 'Affenpinscher_00075.jpg', 'Affenpinscher_00022.jpg', 'Affenpinscher_00029.jpg', 'Affenpinscher_00037.jpg', 'Affenpinscher_00028.jpg', 'Affenpinscher_00061.jpg', 'Affenpinscher_00051.jpg', 'Affenpinscher_00076.jpg', 'Affenpinscher_00014.jpg', 'Affenpinscher_00004.jpg', 'Affenpinscher_00080.jpg', 'Affenpinscher_00019.jpg', 'Affenpinscher_00059.jpg', 'Affenpinscher_00015.jpg', 'Affenpinscher_00006.jpg', 'Affenpinscher_00073.jpg', 'Affenpinscher_00062.jpg', 'Affenpinscher_00035.jpg', 'Affenpinscher_00009.jpg', 'Affenpinscher_00005.jpg', 'Affenpinscher_00043.jpg', 'Affenpinscher_00064.jpg', 'Affenpinscher_00032.jpg', 'Affenpinscher_00060.jpg', 'Affenpinscher_00012.jpg', 'Affenpinscher_00069.jpg', 'Affenpinscher_00052.jpg', 'Affenpinscher_00072.jpg']\n"
     ]
    }
   ],
   "source": [
    "import random\n",
    "\n",
    "def get_files(path):\n",
    "  files = os.listdir(path)\n",
    "  n_files = 100 - len (files)\n",
    "  print(files)\n",
    "  print(random.sample(files, n_files ))\n",
    "  \n",
    "get_files('/content/drive/My Drive/Colab Notebooks/dogImages/train/001.Affenpinscher/')\n",
    "  "
   ]
  },
  {
   "cell_type": "code",
   "execution_count": 8,
   "metadata": {
    "colab": {
     "base_uri": "https://localhost:8080/",
     "height": 68
    },
    "colab_type": "code",
    "id": "5aOggE6csrq6",
    "outputId": "ef3c0c48-ed14-467b-e822-327f705d9de2"
   },
   "outputs": [
    {
     "name": "stderr",
     "output_type": "stream",
     "text": [
      "100%|██████████| 6680/6680 [00:57<00:00, 116.55it/s]\n",
      "100%|██████████| 835/835 [00:06<00:00, 127.75it/s]\n",
      "100%|██████████| 836/836 [00:06<00:00, 128.61it/s]\n"
     ]
    }
   ],
   "source": [
    "from PIL import ImageFile                            \n",
    "ImageFile.LOAD_TRUNCATED_IMAGES = True                 \n",
    "\n",
    "# pre-process the data for Keras\n",
    "train_tensors = paths_to_tensor(train_files).astype('float32')/255\n",
    "valid_tensors = paths_to_tensor(valid_files).astype('float32')/255\n",
    "test_tensors = paths_to_tensor(test_files).astype('float32')/255"
   ]
  },
  {
   "cell_type": "code",
   "execution_count": 22,
   "metadata": {
    "colab": {
     "base_uri": "https://localhost:8080/",
     "height": 1496
    },
    "colab_type": "code",
    "id": "7ShhLrmDvqKo",
    "outputId": "b961f46d-e484-4cd3-e466-5a0803146861"
   },
   "outputs": [
    {
     "data": {
      "text/plain": [
       "(array([ 486, 1127, 1127, 1127, 1127, 1127, 1127, 1127, 1127, 1127, 1127,\n",
       "        1127, 1127, 1127, 1127, 1127, 1127, 1127, 1127, 1127, 1127, 1127,\n",
       "        1127, 1127, 1127, 1127, 1127, 1127, 1127, 1127, 1127, 1127, 1127,\n",
       "        1127, 1127, 1127, 1127, 1127, 1127, 1127, 1127, 1127, 1127, 1127,\n",
       "        1127, 1127, 1127, 1127, 1127, 1127, 1127, 1127, 1127, 1127, 1127,\n",
       "        1127, 1127, 1127, 1127, 1127, 1127, 1127, 1127, 1127, 1127, 1127,\n",
       "        1127, 1127, 1127, 1127, 1127, 1127, 1127, 1127, 1127, 1127, 1127,\n",
       "        1127, 1127, 1127, 1127, 1127, 1127, 1127, 1127, 1127, 1127, 1127,\n",
       "        1127, 1127, 1127, 1127, 1127, 1127, 1127, 1127, 1127, 1127, 1127,\n",
       "        1127, 1127, 1127, 1127, 1127, 1127, 1127, 1127, 1127, 1127, 1127,\n",
       "        1127, 1127, 1127, 1127, 1127, 1293, 1293, 1293, 1293, 1293, 1293,\n",
       "        1518, 1518, 1518, 1518, 1518, 1518, 1518, 1518, 1518, 1518, 1518,\n",
       "        1518, 1518, 1518, 1518, 1518, 1518, 1518, 1518, 1518, 1518, 1518,\n",
       "        1518, 1518, 1518, 1518, 1518, 1518, 1518, 1518, 1541, 1541, 1541,\n",
       "        1541, 1541, 1541, 1541, 1541, 1541, 1541, 1541, 1541, 1541, 1541,\n",
       "        1541, 1541, 1541, 1541, 1541, 1541, 1541, 1541, 1541, 1541, 1541,\n",
       "        1541, 1541, 1541, 1541, 1541, 1541, 1541, 1541, 1541, 1541, 1541,\n",
       "        1690, 1690, 1690, 1690, 1690, 2083, 2083, 2083, 2083, 2083, 2083,\n",
       "        2083, 2083, 2083, 2083, 2083, 2083, 2083, 2083, 2083, 2083, 2083,\n",
       "        2083, 2083, 2083, 2083, 2083, 2083, 2083, 2439, 2439, 2439, 2439,\n",
       "        2439, 2439, 2439, 2439, 2439, 2439, 2439, 2439, 2439, 2439, 2872,\n",
       "        2872, 2872, 2943, 2943, 2943, 2943, 2943, 2943, 3090, 3090, 3090,\n",
       "        3090, 3090, 3090, 3090, 3090, 3090, 3090, 3090, 3090, 3090, 3090,\n",
       "        3090, 3090, 3090, 3090, 3090, 3090, 3090, 3090, 3090, 3090, 3090,\n",
       "        3090, 3090, 3090, 3090, 3090, 3090, 3090, 3090, 3090, 3090, 3090,\n",
       "        3942, 3942, 3942, 3942, 3942, 3942, 3942, 3942, 3942, 3942, 3942,\n",
       "        3942, 3942, 3942, 3942, 3942, 3942, 3942, 3942, 3942, 3942, 3942,\n",
       "        3942, 3942, 3942, 3942, 3942, 3942, 3942, 3942, 3942, 3942, 3942,\n",
       "        4105, 4105, 4105, 4105, 4105, 4105, 4105, 4105, 4105, 4105, 4105,\n",
       "        4105, 4105, 4105, 4105, 4105, 4105, 4105, 4105, 4105, 4105, 4126,\n",
       "        4126, 4126, 4252, 4252, 4252, 4252, 4252, 4252, 4329, 4329, 4607,\n",
       "        4607, 4607, 4607, 4607, 4607, 4607, 5324, 5324, 5324, 5346, 5346,\n",
       "        5346, 5346, 5346, 5346, 5986, 5986, 5986, 5986, 5986, 5986, 5986,\n",
       "        5986, 5986, 5986, 5986, 5986, 5986, 5986, 5986, 5986, 5986, 5986,\n",
       "        5986, 5986, 5986, 5986, 5986, 5986, 5986, 5986, 5986, 5986, 5986,\n",
       "        5986, 5986, 5986, 5986, 5986, 5986, 5986, 5991, 6168, 6430, 6430,\n",
       "        6430, 6430, 6659, 6659, 6659]),\n",
       " array([  0,   0,   0,   0,   1,   1,   1,   2,   2,   2,   3,   3,   3,\n",
       "          4,   4,   4,   5,   5,   5,   6,   6,   6,   7,   7,   7,   8,\n",
       "          8,   8,   9,   9,   9,  10,  10,  10,  11,  11,  11,  12,  12,\n",
       "         12,  13,  13,  13,  14,  14,  14,  15,  15,  15,  16,  16,  16,\n",
       "         17,  17,  17,  18,  18,  18, 205, 205, 205, 206, 206, 206, 207,\n",
       "        207, 207, 208, 208, 208, 209, 209, 209, 210, 210, 210, 211, 211,\n",
       "        211, 212, 212, 212, 213, 213, 213, 214, 214, 214, 215, 215, 215,\n",
       "        216, 216, 216, 217, 217, 217, 218, 218, 218, 219, 219, 219, 220,\n",
       "        220, 220, 221, 221, 221, 222, 222, 222, 223, 223, 223, 222, 222,\n",
       "        222, 223, 223, 223,   3,   3,   3,   4,   4,   4,   5,   5,   5,\n",
       "          6,   6,   6,   7,   7,   7,   8,   8,   8,   9,   9,   9,  10,\n",
       "         10,  10, 216, 216, 216, 217, 217, 217,   0,   0,   0,   1,   1,\n",
       "          1,   2,   2,   2,   3,   3,   3,   4,   4,   4,   6,   6,   6,\n",
       "        217, 217, 217, 219, 219, 219, 220, 220, 220, 221, 221, 221, 222,\n",
       "        222, 222, 223, 223, 223,   0,   1,   2,   3,   4,   0,   0,   0,\n",
       "          1,   1,   1,   2,   2,   2,   3,   3,   3, 220, 220, 220, 221,\n",
       "        221, 221, 222, 222, 222, 223, 223, 223,   0,   0,   0,   1,   1,\n",
       "          1,   2,   2,   2, 222, 222, 223, 223, 223, 223, 223, 223, 222,\n",
       "        222, 222, 223, 223, 223,   0,   0,   0,   1,   1,   1,   2,   2,\n",
       "          2,   3,   3,   3,   4,   4,   4,   5,   5,   5,   6,   6,   6,\n",
       "          7,   7,   7, 220, 220, 220, 221, 221, 221, 222, 222, 222, 223,\n",
       "        223, 223,   0,   0,   0,   1,   1,   1,   2,   2,   2,   3,   3,\n",
       "          3,   4,   4,   4, 218, 218, 218, 219, 219, 219, 220, 220, 220,\n",
       "        221, 221, 221, 222, 222, 222, 223, 223, 223,   0,   0,   0,   1,\n",
       "          1,   1,   2,   2,   2,   3,   3,   3, 221, 221, 221, 222, 222,\n",
       "        222, 223, 223, 223, 223, 223, 223, 222, 222, 222, 223, 223, 223,\n",
       "        222, 223,   0,   1,   2,   3,   4, 222, 223, 223, 223, 223, 218,\n",
       "        219, 220, 221, 222, 223,   0,   0,   0,   1,   1,   1,   2,   2,\n",
       "          2,   3,   3,   3,   4,   4,   4,   5,   5,   5, 218, 218, 218,\n",
       "        219, 219, 219, 220, 220, 220, 221, 221, 221, 222, 222, 222, 223,\n",
       "        223, 223, 223, 222, 220, 221, 222, 223, 221, 222, 223]),\n",
       " array([1, 0, 1, 2, 0, 1, 2, 0, 1, 2, 0, 1, 2, 0, 1, 2, 0, 1, 2, 0, 1, 2,\n",
       "        0, 1, 2, 0, 1, 2, 0, 1, 2, 0, 1, 2, 0, 1, 2, 0, 1, 2, 0, 1, 2, 0,\n",
       "        1, 2, 0, 1, 2, 0, 1, 2, 0, 1, 2, 0, 1, 2, 0, 1, 2, 0, 1, 2, 0, 1,\n",
       "        2, 0, 1, 2, 0, 1, 2, 0, 1, 2, 0, 1, 2, 0, 1, 2, 0, 1, 2, 0, 1, 2,\n",
       "        0, 1, 2, 0, 1, 2, 0, 1, 2, 0, 1, 2, 0, 1, 2, 0, 1, 2, 0, 1, 2, 0,\n",
       "        1, 2, 0, 1, 2, 0, 1, 2, 0, 1, 2, 0, 1, 2, 0, 1, 2, 0, 1, 2, 0, 1,\n",
       "        2, 0, 1, 2, 0, 1, 2, 0, 1, 2, 0, 1, 2, 0, 1, 2, 0, 1, 2, 0, 1, 2,\n",
       "        0, 1, 2, 0, 1, 2, 0, 1, 2, 0, 1, 2, 0, 1, 2, 0, 1, 2, 0, 1, 2, 0,\n",
       "        1, 2, 0, 1, 2, 0, 1, 2, 0, 1, 2, 2, 2, 2, 2, 2, 0, 1, 2, 0, 1, 2,\n",
       "        0, 1, 2, 0, 1, 2, 0, 1, 2, 0, 1, 2, 0, 1, 2, 0, 1, 2, 0, 1, 2, 0,\n",
       "        1, 2, 0, 1, 2, 0, 1, 0, 1, 2, 0, 1, 2, 0, 1, 2, 0, 1, 2, 0, 1, 2,\n",
       "        0, 1, 2, 0, 1, 2, 0, 1, 2, 0, 1, 2, 0, 1, 2, 0, 1, 2, 0, 1, 2, 0,\n",
       "        1, 2, 0, 1, 2, 0, 1, 2, 0, 1, 2, 0, 1, 2, 0, 1, 2, 0, 1, 2, 0, 1,\n",
       "        2, 0, 1, 2, 0, 1, 2, 0, 1, 2, 0, 1, 2, 0, 1, 2, 0, 1, 2, 0, 1, 2,\n",
       "        0, 1, 2, 0, 1, 2, 0, 1, 2, 0, 1, 2, 0, 1, 2, 0, 1, 2, 0, 1, 2, 0,\n",
       "        1, 2, 0, 1, 2, 0, 1, 2, 2, 2, 0, 0, 0, 0, 0, 0, 0, 0, 1, 2, 2, 2,\n",
       "        2, 2, 2, 2, 0, 1, 2, 0, 1, 2, 0, 1, 2, 0, 1, 2, 0, 1, 2, 0, 1, 2,\n",
       "        0, 1, 2, 0, 1, 2, 0, 1, 2, 0, 1, 2, 0, 1, 2, 0, 1, 2, 0, 1, 2, 2,\n",
       "        2, 2, 2, 2, 2]))"
      ]
     },
     "execution_count": 22,
     "metadata": {
      "tags": []
     },
     "output_type": "execute_result"
    }
   ],
   "source": [
    "\n",
    "np.where((train_tensors == zero).all(axis=1))"
   ]
  },
  {
   "cell_type": "code",
   "execution_count": 23,
   "metadata": {
    "colab": {
     "base_uri": "https://localhost:8080/",
     "height": 850
    },
    "colab_type": "code",
    "id": "rwzSERQUwaFT",
    "outputId": "32b2ef80-5d27-45d4-aab6-11eebab8415e"
   },
   "outputs": [
    {
     "data": {
      "text/plain": [
       "array([[[0.5058824 , 0.        , 0.49803922],\n",
       "        [0.5058824 , 0.        , 0.49803922],\n",
       "        [0.5058824 , 0.        , 0.49803922],\n",
       "        ...,\n",
       "        [0.5058824 , 0.        , 0.49803922],\n",
       "        [0.5058824 , 0.        , 0.49803922],\n",
       "        [0.5058824 , 0.        , 0.49803922]],\n",
       "\n",
       "       [[0.5058824 , 0.        , 0.49803922],\n",
       "        [0.62352943, 0.6392157 , 0.58431375],\n",
       "        [0.5803922 , 0.44705883, 0.20784314],\n",
       "        ...,\n",
       "        [0.29411766, 0.16470589, 0.13725491],\n",
       "        [1.        , 0.99607843, 0.98039216],\n",
       "        [0.50980395, 0.        , 0.5058824 ]],\n",
       "\n",
       "       [[0.5058824 , 0.        , 0.49803922],\n",
       "        [0.61960787, 0.6039216 , 0.49803922],\n",
       "        [0.57254905, 0.40784314, 0.18039216],\n",
       "        ...,\n",
       "        [0.34117648, 0.21568628, 0.17254902],\n",
       "        [0.99215686, 0.99607843, 0.9411765 ],\n",
       "        [0.49411765, 0.01176471, 0.49803922]],\n",
       "\n",
       "       ...,\n",
       "\n",
       "       [[0.5058824 , 0.        , 0.49803922],\n",
       "        [0.62352943, 0.5882353 , 0.4745098 ],\n",
       "        [0.627451  , 0.5294118 , 0.2784314 ],\n",
       "        ...,\n",
       "        [0.7372549 , 0.61960787, 0.34509805],\n",
       "        [0.9764706 , 0.98039216, 0.9254902 ],\n",
       "        [0.49803922, 0.01568628, 0.5019608 ]],\n",
       "\n",
       "       [[0.5058824 , 0.        , 0.49803922],\n",
       "        [0.65882355, 0.5019608 , 0.5372549 ],\n",
       "        [0.24313726, 0.21176471, 0.12941177],\n",
       "        ...,\n",
       "        [0.7137255 , 0.6117647 , 0.37254903],\n",
       "        [0.95686275, 0.98039216, 0.9647059 ],\n",
       "        [0.50980395, 0.03921569, 0.52156866]],\n",
       "\n",
       "       [[0.5058824 , 0.        , 0.49803922],\n",
       "        [0.5058824 , 0.        , 0.49803922],\n",
       "        [0.5058824 , 0.        , 0.49803922],\n",
       "        ...,\n",
       "        [0.5058824 , 0.        , 0.49803922],\n",
       "        [0.5058824 , 0.        , 0.49803922],\n",
       "        [0.5058824 , 0.        , 0.49803922]]], dtype=float32)"
      ]
     },
     "execution_count": 23,
     "metadata": {
      "tags": []
     },
     "output_type": "execute_result"
    }
   ],
   "source": [
    "train_tensors[486]"
   ]
  },
  {
   "cell_type": "code",
   "execution_count": 17,
   "metadata": {
    "colab": {
     "base_uri": "https://localhost:8080/",
     "height": 232
    },
    "colab_type": "code",
    "id": "-rbg5L76oMyB",
    "outputId": "125fadf2-9e71-48b6-dd1a-524b675b2d0d"
   },
   "outputs": [
    {
     "ename": "AttributeError",
     "evalue": "ignored",
     "output_type": "error",
     "traceback": [
      "\u001b[0;31m---------------------------------------------------------------------------\u001b[0m",
      "\u001b[0;31mAttributeError\u001b[0m                            Traceback (most recent call last)",
      "\u001b[0;32m<ipython-input-17-37daa657cabc>\u001b[0m in \u001b[0;36m<module>\u001b[0;34m()\u001b[0m\n\u001b[1;32m      2\u001b[0m \u001b[0mzero\u001b[0m \u001b[0;34m=\u001b[0m \u001b[0mnp\u001b[0m\u001b[0;34m.\u001b[0m\u001b[0mzeros\u001b[0m\u001b[0;34m(\u001b[0m\u001b[0;34m(\u001b[0m\u001b[0;36m224\u001b[0m\u001b[0;34m,\u001b[0m \u001b[0;36m224\u001b[0m\u001b[0;34m,\u001b[0m \u001b[0;36m3\u001b[0m\u001b[0;34m)\u001b[0m\u001b[0;34m)\u001b[0m\u001b[0;34m\u001b[0m\u001b[0;34m\u001b[0m\u001b[0m\n\u001b[1;32m      3\u001b[0m \u001b[0mones\u001b[0m \u001b[0;34m=\u001b[0m \u001b[0mnp\u001b[0m\u001b[0;34m.\u001b[0m\u001b[0mfull\u001b[0m\u001b[0;34m(\u001b[0m\u001b[0;34m(\u001b[0m\u001b[0;36m224\u001b[0m\u001b[0;34m,\u001b[0m \u001b[0;36m224\u001b[0m\u001b[0;34m,\u001b[0m \u001b[0;36m3\u001b[0m\u001b[0;34m)\u001b[0m\u001b[0;34m,\u001b[0m \u001b[0;36m1\u001b[0m\u001b[0;34m)\u001b[0m\u001b[0;34m\u001b[0m\u001b[0;34m\u001b[0m\u001b[0m\n\u001b[0;32m----> 4\u001b[0;31m \u001b[0mresult_zeros\u001b[0m \u001b[0;34m=\u001b[0m \u001b[0mnp\u001b[0m\u001b[0;34m.\u001b[0m\u001b[0mwhere\u001b[0m\u001b[0;34m(\u001b[0m\u001b[0mtrain_tensors\u001b[0m \u001b[0;34m==\u001b[0m \u001b[0mzero\u001b[0m\u001b[0;34m)\u001b[0m\u001b[0;34m.\u001b[0m\u001b[0mall\u001b[0m\u001b[0;34m(\u001b[0m\u001b[0maxis\u001b[0m\u001b[0;34m=\u001b[0m\u001b[0;36m1\u001b[0m\u001b[0;34m)\u001b[0m\u001b[0;34m\u001b[0m\u001b[0;34m\u001b[0m\u001b[0m\n\u001b[0m\u001b[1;32m      5\u001b[0m \u001b[0mresult_ones\u001b[0m \u001b[0;34m=\u001b[0m \u001b[0mnp\u001b[0m\u001b[0;34m.\u001b[0m\u001b[0mwhere\u001b[0m\u001b[0;34m(\u001b[0m\u001b[0mtrain_tensors\u001b[0m \u001b[0;34m==\u001b[0m \u001b[0mones\u001b[0m\u001b[0;34m)\u001b[0m\u001b[0;34m\u001b[0m\u001b[0;34m\u001b[0m\u001b[0m\n\u001b[1;32m      6\u001b[0m \u001b[0mprint\u001b[0m\u001b[0;34m(\u001b[0m\u001b[0mresult_zeros\u001b[0m\u001b[0;34m)\u001b[0m\u001b[0;34m\u001b[0m\u001b[0;34m\u001b[0m\u001b[0m\n",
      "\u001b[0;31mAttributeError\u001b[0m: 'tuple' object has no attribute 'all'"
     ]
    }
   ],
   "source": [
    "\n",
    "zero = np.zeros((224, 224, 3))\n",
    "ones = np.full((224, 224, 3), 1)\n",
    "result_zeros = np.where(train_tensors == zero).all(axis=1)\n",
    "result_ones = np.where(train_tensors == ones)\n",
    "print(result_zeros)\n",
    "print(result_ones)"
   ]
  },
  {
   "cell_type": "code",
   "execution_count": 12,
   "metadata": {
    "colab": {
     "base_uri": "https://localhost:8080/",
     "height": 850
    },
    "colab_type": "code",
    "id": "f3jRr6XruHqZ",
    "outputId": "82fec3a6-e3ad-42f4-9962-e03327c46ef5"
   },
   "outputs": [
    {
     "name": "stdout",
     "output_type": "stream",
     "text": [
      "[[[0.60784316 0.61960787 0.69411767]\n",
      "  [0.6627451  0.6509804  0.7254902 ]\n",
      "  [0.6392157  0.65882355 0.7372549 ]\n",
      "  ...\n",
      "  [0.5882353  0.6        0.6745098 ]\n",
      "  [0.57254905 0.58431375 0.65882355]\n",
      "  [0.5529412  0.5803922  0.6509804 ]]\n",
      "\n",
      " [[0.6627451  0.67058825 0.7294118 ]\n",
      "  [0.6392157  0.63529414 0.69803923]\n",
      "  [0.6039216  0.6313726  0.7019608 ]\n",
      "  ...\n",
      "  [0.54509807 0.5803922  0.64705884]\n",
      "  [0.5568628  0.5764706  0.6509804 ]\n",
      "  [0.5411765  0.5686275  0.6392157 ]]\n",
      "\n",
      " [[0.59607846 0.6039216  0.6627451 ]\n",
      "  [0.64705884 0.65882355 0.7176471 ]\n",
      "  [0.6392157  0.6745098  0.7411765 ]\n",
      "  ...\n",
      "  [0.5529412  0.6        0.654902  ]\n",
      "  [0.5529412  0.5803922  0.6509804 ]\n",
      "  [0.54509807 0.57254905 0.64705884]]\n",
      "\n",
      " ...\n",
      "\n",
      " [[0.14509805 0.13333334 0.07450981]\n",
      "  [0.14117648 0.13333334 0.08627451]\n",
      "  [0.16470589 0.14117648 0.08627451]\n",
      "  ...\n",
      "  [0.6431373  0.65882355 0.7058824 ]\n",
      "  [0.6117647  0.61960787 0.6784314 ]\n",
      "  [0.60784316 0.6313726  0.69411767]]\n",
      "\n",
      " [[0.14117648 0.12941177 0.05490196]\n",
      "  [0.15294118 0.12941177 0.06666667]\n",
      "  [0.15686275 0.14117648 0.09803922]\n",
      "  ...\n",
      "  [0.5921569  0.6313726  0.6666667 ]\n",
      "  [0.5882353  0.5921569  0.6627451 ]\n",
      "  [0.6117647  0.62352943 0.6901961 ]]\n",
      "\n",
      " [[0.13333334 0.12156863 0.0627451 ]\n",
      "  [0.14117648 0.11764706 0.0627451 ]\n",
      "  [0.15294118 0.13725491 0.10196079]\n",
      "  ...\n",
      "  [0.6039216  0.6431373  0.68235296]\n",
      "  [0.59607846 0.6        0.67058825]\n",
      "  [0.60784316 0.627451   0.7019608 ]]]\n"
     ]
    }
   ],
   "source": [
    "print(train_tensors[0])"
   ]
  },
  {
   "cell_type": "code",
   "execution_count": 0,
   "metadata": {
    "colab": {},
    "colab_type": "code",
    "id": "st02BpEYkBwj"
   },
   "outputs": [],
   "source": [
    "from keras.preprocessing.image import ImageDataGenerator, array_to_img, img_to_array, load_img\n",
    "\n",
    "datagen = ImageDataGenerator(\n",
    "        rotation_range=40,\n",
    "        width_shift_range=0.2,\n",
    "        height_shift_range=0.2,\n",
    "        shear_range=0.2,\n",
    "        zoom_range=0.2,\n",
    "        horizontal_flip=True,\n",
    "        fill_mode='nearest')\n"
   ]
  },
  {
   "cell_type": "code",
   "execution_count": 0,
   "metadata": {
    "colab": {
     "base_uri": "https://localhost:8080/",
     "height": 34
    },
    "colab_type": "code",
    "id": "Sb0-mS5-oRwO",
    "outputId": "8bfb13da-cb79-4fc2-c4d2-56ff66863fd9"
   },
   "outputs": [
    {
     "name": "stdout",
     "output_type": "stream",
     "text": [
      "Load time: 53.757532\n"
     ]
    }
   ],
   "source": [
    "start = time()\n",
    "bottleneck_features = np.load(PATH + 'DogXceptionData.npz')\n",
    "train_DogXception = bottleneck_features['train']\n",
    "valid_DogXception = bottleneck_features['valid']\n",
    "test_DogXception = bottleneck_features['test']\n",
    "\n",
    "load_time = time() - start\n",
    "print(\"Load time: %f\"%load_time)"
   ]
  },
  {
   "cell_type": "code",
   "execution_count": 0,
   "metadata": {
    "colab": {
     "base_uri": "https://localhost:8080/",
     "height": 374
    },
    "colab_type": "code",
    "id": "2mZK19SXj5pp",
    "outputId": "6d0d3671-675d-4215-e92e-6cf03120d900"
   },
   "outputs": [
    {
     "name": "stdout",
     "output_type": "stream",
     "text": [
      "_________________________________________________________________\n",
      "Layer (type)                 Output Shape              Param #   \n",
      "=================================================================\n",
      "conv2d_13 (Conv2D)           (None, 7, 7, 64)          524352    \n",
      "_________________________________________________________________\n",
      "conv2d_14 (Conv2D)           (None, 7, 7, 64)          16448     \n",
      "_________________________________________________________________\n",
      "dropout_11 (Dropout)         (None, 7, 7, 64)          0         \n",
      "_________________________________________________________________\n",
      "flatten_5 (Flatten)          (None, 3136)              0         \n",
      "_________________________________________________________________\n",
      "dense_10 (Dense)             (None, 256)               803072    \n",
      "_________________________________________________________________\n",
      "dropout_12 (Dropout)         (None, 256)               0         \n",
      "_________________________________________________________________\n",
      "dense_11 (Dense)             (None, 133)               34181     \n",
      "=================================================================\n",
      "Total params: 1,378,053\n",
      "Trainable params: 1,378,053\n",
      "Non-trainable params: 0\n",
      "_________________________________________________________________\n"
     ]
    }
   ],
   "source": [
    "from keras.layers import Conv2D, MaxPooling2D, GlobalAveragePooling2D\n",
    "from keras.layers import Dropout, Flatten, Dense\n",
    "from keras.models import Sequential\n",
    "\n",
    "from keras.callbacks import ModelCheckpoint  \n",
    "model = Sequential()\n",
    "model.add(Conv2D(filters=64, kernel_size=2, padding='same', activation='relu', input_shape=(7, 7, 2048)))\n",
    "model.add(Conv2D(filters=64, kernel_size=2, padding='same', activation='relu'))\n",
    "model.add(Dropout(0.05))\n",
    "\n",
    "model.add(Flatten())\n",
    "model.add(Dense(256, activation='relu'))\n",
    "model.add(Dropout(0.5))\n",
    "model.add(Dense(133, activation='softmax'))\n",
    "\n",
    "model.summary()\n",
    "\n",
    "model.compile(loss='categorical_crossentropy', optimizer='adam', metrics=['accuracy'])"
   ]
  },
  {
   "cell_type": "code",
   "execution_count": 0,
   "metadata": {
    "colab": {
     "base_uri": "https://localhost:8080/",
     "height": 105
    },
    "colab_type": "code",
    "id": "D-n7QGqvkQgh",
    "outputId": "5799647f-4715-4e7b-f7ae-8a53ad95739e"
   },
   "outputs": [
    {
     "name": "stderr",
     "output_type": "stream",
     "text": [
      "/usr/local/lib/python3.6/dist-packages/keras_preprocessing/image/numpy_array_iterator.py:127: UserWarning: NumpyArrayIterator is set to use the data format convention \"channels_last\" (channels on axis 3), i.e. expected either 1, 3, or 4 channels on axis 3. However, it was passed an array with shape (6680, 7, 7, 2048) (2048 channels).\n",
      "  str(self.x.shape[channels_axis]) + ' channels).')\n",
      "/usr/local/lib/python3.6/dist-packages/keras_preprocessing/image/numpy_array_iterator.py:127: UserWarning: NumpyArrayIterator is set to use the data format convention \"channels_last\" (channels on axis 3), i.e. expected either 1, 3, or 4 channels on axis 3. However, it was passed an array with shape (835, 7, 7, 2048) (2048 channels).\n",
      "  str(self.x.shape[channels_axis]) + ' channels).')\n"
     ]
    }
   ],
   "source": [
    "from PIL import ImageFile\n",
    "ImageFile.LOAD_TRUNCATED_IMAGES = True\n",
    "from keras.callbacks import ModelCheckpoint  \n",
    "\n",
    "batch_size = 16\n",
    "\n",
    "# this is the augmentation configuration we will use for training\n",
    "train_datagen = ImageDataGenerator(\n",
    "        rescale=1./255,\n",
    "        shear_range=0.2,\n",
    "        zoom_range=0.2,\n",
    "        horizontal_flip=True)\n",
    "\n",
    "# this is the augmentation configuration we will use for testing:\n",
    "# only rescaling\n",
    "test_datagen = ImageDataGenerator(rescale=1./255)\n",
    "\n",
    "# this is a generator that will read pictures found in\n",
    "# subfolers of 'data/train', and indefinitely generate\n",
    "# batches of augmented image data\n",
    "train_generator = train_datagen.flow(\n",
    "        train_DogXception, \n",
    "        train_targets,\n",
    "        batch_size=batch_size)  \n",
    "\n",
    "# this is a similar generator, for validation data\n",
    "validation_generator = test_datagen.flow(\n",
    "        valid_DogXception,\n",
    "        valid_targets,\n",
    "        batch_size=batch_size)"
   ]
  },
  {
   "cell_type": "code",
   "execution_count": 0,
   "metadata": {
    "colab": {
     "base_uri": "https://localhost:8080/",
     "height": 3471
    },
    "colab_type": "code",
    "id": "s_iax-0bkelN",
    "outputId": "415f5396-5275-4149-d458-18012ad74e6e"
   },
   "outputs": [
    {
     "name": "stderr",
     "output_type": "stream",
     "text": [
      "/usr/local/lib/python3.6/dist-packages/keras/engine/training.py:490: UserWarning: Discrepancy between trainable weights and collected trainable weights, did you set `model.trainable` without calling `model.compile` after ?\n",
      "  'Discrepancy between trainable weights and collected trainable'\n"
     ]
    },
    {
     "name": "stdout",
     "output_type": "stream",
     "text": [
      "Epoch 1/50\n",
      "62/62 [==============================] - 39s 632ms/step - loss: 1.8998 - acc: 0.4647 - val_loss: 1.3859 - val_acc: 0.5845\n",
      "\n",
      "Epoch 00001: val_loss improved from inf to 1.38591, saving model to first_try.h5\n",
      "Epoch 2/50\n",
      "62/62 [==============================] - 41s 657ms/step - loss: 1.6512 - acc: 0.5091 - val_loss: 1.2726 - val_acc: 0.6188\n",
      "\n",
      "Epoch 00002: val_loss improved from 1.38591 to 1.27262, saving model to first_try.h5\n",
      "Epoch 3/50\n",
      "62/62 [==============================] - 39s 632ms/step - loss: 1.5635 - acc: 0.5302 - val_loss: 1.2180 - val_acc: 0.6404\n",
      "\n",
      "Epoch 00003: val_loss improved from 1.27262 to 1.21801, saving model to first_try.h5\n",
      "Epoch 4/50\n",
      "62/62 [==============================] - 41s 656ms/step - loss: 1.4698 - acc: 0.5312 - val_loss: 1.0826 - val_acc: 0.6900\n",
      "\n",
      "Epoch 00004: val_loss improved from 1.21801 to 1.08260, saving model to first_try.h5\n",
      "Epoch 5/50\n",
      "62/62 [==============================] - 40s 638ms/step - loss: 1.4810 - acc: 0.5685 - val_loss: 1.0594 - val_acc: 0.6787\n",
      "\n",
      "Epoch 00005: val_loss improved from 1.08260 to 1.05936, saving model to first_try.h5\n",
      "Epoch 6/50\n",
      "62/62 [==============================] - 42s 671ms/step - loss: 1.3115 - acc: 0.5948 - val_loss: 1.0713 - val_acc: 0.6760\n",
      "\n",
      "Epoch 00006: val_loss did not improve from 1.05936\n",
      "Epoch 7/50\n",
      "62/62 [==============================] - 40s 648ms/step - loss: 1.4311 - acc: 0.5766 - val_loss: 0.9886 - val_acc: 0.7294\n",
      "\n",
      "Epoch 00007: val_loss improved from 1.05936 to 0.98857, saving model to first_try.h5\n",
      "Epoch 8/50\n",
      "62/62 [==============================] - 41s 655ms/step - loss: 1.2534 - acc: 0.6068 - val_loss: 0.9378 - val_acc: 0.7179\n",
      "\n",
      "Epoch 00008: val_loss improved from 0.98857 to 0.93780, saving model to first_try.h5\n",
      "Epoch 9/50\n",
      "62/62 [==============================] - 39s 635ms/step - loss: 1.1826 - acc: 0.6593 - val_loss: 0.9586 - val_acc: 0.7128\n",
      "\n",
      "Epoch 00009: val_loss did not improve from 0.93780\n",
      "Epoch 10/50\n",
      "62/62 [==============================] - 41s 659ms/step - loss: 1.0938 - acc: 0.6502 - val_loss: 0.9377 - val_acc: 0.7281\n",
      "\n",
      "Epoch 00010: val_loss improved from 0.93780 to 0.93772, saving model to first_try.h5\n",
      "Epoch 11/50\n",
      "62/62 [==============================] - 39s 634ms/step - loss: 1.1230 - acc: 0.6562 - val_loss: 0.8493 - val_acc: 0.7408\n",
      "\n",
      "Epoch 00011: val_loss improved from 0.93772 to 0.84930, saving model to first_try.h5\n",
      "Epoch 12/50\n",
      "62/62 [==============================] - 41s 659ms/step - loss: 1.0268 - acc: 0.6845 - val_loss: 0.9005 - val_acc: 0.7408\n",
      "\n",
      "Epoch 00012: val_loss did not improve from 0.84930\n",
      "Epoch 13/50\n",
      "62/62 [==============================] - 39s 632ms/step - loss: 1.0720 - acc: 0.6794 - val_loss: 0.8005 - val_acc: 0.7408\n",
      "\n",
      "Epoch 00013: val_loss improved from 0.84930 to 0.80050, saving model to first_try.h5\n",
      "Epoch 14/50\n",
      "62/62 [==============================] - 43s 688ms/step - loss: 1.0401 - acc: 0.6734 - val_loss: 0.8326 - val_acc: 0.7535\n",
      "\n",
      "Epoch 00014: val_loss did not improve from 0.80050\n",
      "Epoch 15/50\n",
      "62/62 [==============================] - 40s 638ms/step - loss: 0.8894 - acc: 0.7137 - val_loss: 0.8445 - val_acc: 0.7573\n",
      "\n",
      "Epoch 00015: val_loss did not improve from 0.80050\n",
      "Epoch 16/50\n",
      "62/62 [==============================] - 41s 659ms/step - loss: 0.9435 - acc: 0.7056 - val_loss: 0.8472 - val_acc: 0.7573\n",
      "\n",
      "Epoch 00016: val_loss did not improve from 0.80050\n",
      "Epoch 17/50\n",
      "62/62 [==============================] - 39s 634ms/step - loss: 0.9085 - acc: 0.7298 - val_loss: 0.8051 - val_acc: 0.7471\n",
      "\n",
      "Epoch 00017: val_loss did not improve from 0.80050\n",
      "Epoch 18/50\n",
      "62/62 [==============================] - 41s 659ms/step - loss: 0.8118 - acc: 0.7450 - val_loss: 0.7650 - val_acc: 0.7789\n",
      "\n",
      "Epoch 00018: val_loss improved from 0.80050 to 0.76504, saving model to first_try.h5\n",
      "Epoch 19/50\n",
      "62/62 [==============================] - 40s 638ms/step - loss: 0.9310 - acc: 0.7278 - val_loss: 0.8137 - val_acc: 0.7598\n",
      "\n",
      "Epoch 00019: val_loss did not improve from 0.76504\n",
      "Epoch 20/50\n",
      "62/62 [==============================] - 41s 665ms/step - loss: 0.8620 - acc: 0.7188 - val_loss: 0.8173 - val_acc: 0.7560\n",
      "\n",
      "Epoch 00020: val_loss did not improve from 0.76504\n",
      "Epoch 21/50\n",
      "62/62 [==============================] - 41s 664ms/step - loss: 0.8343 - acc: 0.7369 - val_loss: 0.7848 - val_acc: 0.7649\n",
      "\n",
      "Epoch 00021: val_loss did not improve from 0.76504\n",
      "Epoch 22/50\n",
      "62/62 [==============================] - 41s 658ms/step - loss: 0.7744 - acc: 0.7510 - val_loss: 0.7924 - val_acc: 0.7802\n",
      "\n",
      "Epoch 00022: val_loss did not improve from 0.76504\n",
      "Epoch 23/50\n",
      "62/62 [==============================] - 39s 635ms/step - loss: 0.8096 - acc: 0.7490 - val_loss: 0.7178 - val_acc: 0.7775\n",
      "\n",
      "Epoch 00023: val_loss improved from 0.76504 to 0.71784, saving model to first_try.h5\n",
      "Epoch 24/50\n",
      "62/62 [==============================] - 41s 661ms/step - loss: 0.7029 - acc: 0.7833 - val_loss: 0.7652 - val_acc: 0.7700\n",
      "\n",
      "Epoch 00024: val_loss did not improve from 0.71784\n",
      "Epoch 25/50\n",
      "62/62 [==============================] - 39s 634ms/step - loss: 0.8007 - acc: 0.7429 - val_loss: 0.7511 - val_acc: 0.7624\n",
      "\n",
      "Epoch 00025: val_loss did not improve from 0.71784\n",
      "Epoch 26/50\n",
      "62/62 [==============================] - 41s 662ms/step - loss: 0.7514 - acc: 0.7641 - val_loss: 0.7260 - val_acc: 0.7751\n",
      "\n",
      "Epoch 00026: val_loss did not improve from 0.71784\n",
      "Epoch 27/50\n",
      "62/62 [==============================] - 40s 639ms/step - loss: 0.7788 - acc: 0.7571 - val_loss: 0.6665 - val_acc: 0.7954\n",
      "\n",
      "Epoch 00027: val_loss improved from 0.71784 to 0.66646, saving model to first_try.h5\n",
      "Epoch 28/50\n",
      "62/62 [==============================] - 41s 655ms/step - loss: 0.7048 - acc: 0.7500 - val_loss: 0.8028 - val_acc: 0.7497\n",
      "\n",
      "Epoch 00028: val_loss did not improve from 0.66646\n",
      "Epoch 29/50\n",
      "62/62 [==============================] - 41s 664ms/step - loss: 0.7091 - acc: 0.7802 - val_loss: 0.7451 - val_acc: 0.7891\n",
      "\n",
      "Epoch 00029: val_loss did not improve from 0.66646\n",
      "Epoch 30/50\n",
      "62/62 [==============================] - 42s 673ms/step - loss: 0.6395 - acc: 0.7923 - val_loss: 0.7695 - val_acc: 0.7675\n",
      "\n",
      "Epoch 00030: val_loss did not improve from 0.66646\n",
      "Epoch 31/50\n",
      "62/62 [==============================] - 40s 642ms/step - loss: 0.6289 - acc: 0.8054 - val_loss: 0.7212 - val_acc: 0.7662\n",
      "\n",
      "Epoch 00031: val_loss did not improve from 0.66646\n",
      "Epoch 32/50\n",
      "62/62 [==============================] - 41s 662ms/step - loss: 0.6705 - acc: 0.7843 - val_loss: 0.6502 - val_acc: 0.8094\n",
      "\n",
      "Epoch 00032: val_loss improved from 0.66646 to 0.65024, saving model to first_try.h5\n",
      "Epoch 33/50\n",
      "62/62 [==============================] - 39s 636ms/step - loss: 0.6101 - acc: 0.8034 - val_loss: 0.7750 - val_acc: 0.8018\n",
      "\n",
      "Epoch 00033: val_loss did not improve from 0.65024\n",
      "Epoch 34/50\n",
      "62/62 [==============================] - 41s 661ms/step - loss: 0.6153 - acc: 0.8095 - val_loss: 0.6789 - val_acc: 0.7916\n",
      "\n",
      "Epoch 00034: val_loss did not improve from 0.65024\n",
      "Epoch 35/50\n",
      "62/62 [==============================] - 39s 630ms/step - loss: 0.5767 - acc: 0.8135 - val_loss: 0.7764 - val_acc: 0.7726\n",
      "\n",
      "Epoch 00035: val_loss did not improve from 0.65024\n",
      "Epoch 36/50\n",
      "62/62 [==============================] - 41s 664ms/step - loss: 0.5628 - acc: 0.8226 - val_loss: 0.7029 - val_acc: 0.7967\n",
      "\n",
      "Epoch 00036: val_loss did not improve from 0.65024\n",
      "Epoch 37/50\n",
      "62/62 [==============================] - 42s 681ms/step - loss: 0.6195 - acc: 0.7843 - val_loss: 0.6949 - val_acc: 0.8018\n",
      "\n",
      "Epoch 00037: val_loss did not improve from 0.65024\n",
      "Epoch 38/50\n",
      "62/62 [==============================] - 41s 663ms/step - loss: 0.5839 - acc: 0.8185 - val_loss: 0.7949 - val_acc: 0.7853\n",
      "\n",
      "Epoch 00038: val_loss did not improve from 0.65024\n",
      "Epoch 39/50\n",
      "62/62 [==============================] - 39s 637ms/step - loss: 0.5888 - acc: 0.8105 - val_loss: 0.6860 - val_acc: 0.8107\n",
      "\n",
      "Epoch 00039: val_loss did not improve from 0.65024\n",
      "Epoch 40/50\n",
      "62/62 [==============================] - 41s 663ms/step - loss: 0.5635 - acc: 0.8276 - val_loss: 0.7338 - val_acc: 0.7975\n",
      "\n",
      "Epoch 00040: val_loss did not improve from 0.65024\n",
      "Epoch 41/50\n",
      "62/62 [==============================] - 39s 636ms/step - loss: 0.5988 - acc: 0.8044 - val_loss: 0.7029 - val_acc: 0.7903\n",
      "\n",
      "Epoch 00041: val_loss did not improve from 0.65024\n",
      "Epoch 42/50\n",
      "62/62 [==============================] - 41s 658ms/step - loss: 0.5552 - acc: 0.8125 - val_loss: 0.7425 - val_acc: 0.7827\n",
      "\n",
      "Epoch 00042: val_loss did not improve from 0.65024\n",
      "Epoch 43/50\n",
      "62/62 [==============================] - 40s 641ms/step - loss: 0.4800 - acc: 0.8417 - val_loss: 0.7426 - val_acc: 0.7840\n",
      "\n",
      "Epoch 00043: val_loss did not improve from 0.65024\n",
      "Epoch 44/50\n",
      "62/62 [==============================] - 43s 687ms/step - loss: 0.5217 - acc: 0.8256 - val_loss: 0.7879 - val_acc: 0.7853\n",
      "\n",
      "Epoch 00044: val_loss did not improve from 0.65024\n",
      "Epoch 45/50\n",
      "62/62 [==============================] - 40s 651ms/step - loss: 0.5194 - acc: 0.8337 - val_loss: 0.7162 - val_acc: 0.7942\n",
      "\n",
      "Epoch 00045: val_loss did not improve from 0.65024\n",
      "Epoch 46/50\n",
      "62/62 [==============================] - 41s 661ms/step - loss: 0.4802 - acc: 0.8538 - val_loss: 0.7406 - val_acc: 0.8018\n",
      "\n",
      "Epoch 00046: val_loss did not improve from 0.65024\n",
      "Epoch 47/50\n",
      "62/62 [==============================] - 40s 639ms/step - loss: 0.4733 - acc: 0.8548 - val_loss: 0.7510 - val_acc: 0.8081\n",
      "\n",
      "Epoch 00047: val_loss did not improve from 0.65024\n",
      "Epoch 48/50\n",
      "62/62 [==============================] - 41s 666ms/step - loss: 0.4916 - acc: 0.8337 - val_loss: 0.7198 - val_acc: 0.8081\n",
      "\n",
      "Epoch 00048: val_loss did not improve from 0.65024\n",
      "Epoch 49/50\n",
      "62/62 [==============================] - 39s 633ms/step - loss: 0.4836 - acc: 0.8347 - val_loss: 0.6996 - val_acc: 0.8005\n",
      "\n",
      "Epoch 00049: val_loss did not improve from 0.65024\n",
      "Epoch 50/50\n",
      "62/62 [==============================] - 41s 664ms/step - loss: 0.4673 - acc: 0.8508 - val_loss: 0.7411 - val_acc: 0.8081\n",
      "\n",
      "Epoch 00050: val_loss did not improve from 0.65024\n"
     ]
    }
   ],
   "source": [
    "\n",
    "checkpointer = ModelCheckpoint(filepath='first_try.h5', \n",
    "                               verbose=1, save_best_only=True)\n",
    "\n",
    "for layer in model.layers[:25]:\n",
    "    layer.trainable = False\n",
    "  \n",
    "batch_size = 16\n",
    "\n",
    "history = model.fit_generator(\n",
    "        train_generator,\n",
    "        steps_per_epoch=1000 // batch_size,\n",
    "        epochs=50,\n",
    "        validation_data=validation_generator,\n",
    "        validation_steps=800 // batch_size,\n",
    "        callbacks=[checkpointer], \n",
    "        verbose=1)\n"
   ]
  },
  {
   "cell_type": "code",
   "execution_count": 0,
   "metadata": {
    "colab": {
     "base_uri": "https://localhost:8080/",
     "height": 573
    },
    "colab_type": "code",
    "id": "fwiKQH-TPSvU",
    "outputId": "3a0005f9-ff65-4d1f-8f29-1f99e4ebe79c"
   },
   "outputs": [
    {
     "data": {
      "image/png": "[encoded data removed]",
      "text/plain": [
       "<Figure size 432x288 with 1 Axes>"
      ]
     },
     "metadata": {
      "tags": []
     },
     "output_type": "display_data"
    },
    {
     "data": {
      "image/png": "[encoded data removed]",
      "text/plain": [
       "<Figure size 432x288 with 1 Axes>"
      ]
     },
     "metadata": {
      "tags": []
     },
     "output_type": "display_data"
    }
   ],
   "source": [
    "import matplotlib.pyplot as plt\n",
    "import numpy\n",
    "\n",
    "# summarize history for accuracy\n",
    "plt.plot(history.history['acc'])\n",
    "plt.plot(history.history['val_acc'])\n",
    "plt.title('model accuracy')\n",
    "plt.ylabel('accuracy')\n",
    "plt.xlabel('epoch')\n",
    "plt.legend(['train', 'test'], loc='upper left')\n",
    "plt.show()\n",
    "# summarize history for loss\n",
    "plt.plot(history.history['loss'])\n",
    "plt.plot(history.history['val_loss'])\n",
    "plt.title('model loss')\n",
    "plt.ylabel('loss')\n",
    "plt.xlabel('epoch')\n",
    "plt.legend(['train', 'test'], loc='upper left')\n",
    "plt.show()"
   ]
  },
  {
   "cell_type": "code",
   "execution_count": 0,
   "metadata": {
    "colab": {
     "base_uri": "https://localhost:8080/",
     "height": 34
    },
    "colab_type": "code",
    "id": "jxPYCOXePVD0",
    "outputId": "791ef129-8bb8-40ba-9679-28d3ed2ad214"
   },
   "outputs": [
    {
     "name": "stdout",
     "output_type": "stream",
     "text": [
      "Test accuracy: 78.7081%\n"
     ]
    }
   ],
   "source": [
    "### TODO: Calculate classification accuracy on the test dataset.\n",
    "\n",
    "predictions = [np.argmax(model.predict(np.expand_dims(feature, axis=0))) for feature in test_DogXception]\n",
    "\n",
    "# report test accuracy\n",
    "test_accuracy = 100*np.sum(np.array(predictions)==np.argmax(test_targets, axis=1))/len(predictions)\n",
    "print('Test accuracy: %.4f%%' % test_accuracy)"
   ]
  },
  {
   "cell_type": "code",
   "execution_count": 0,
   "metadata": {
    "colab": {
     "base_uri": "https://localhost:8080/",
     "height": 3454
    },
    "colab_type": "code",
    "id": "2RyNR-6_K3ri",
    "outputId": "e9e0fec8-bf52-4002-b736-c0f62c737e20"
   },
   "outputs": [
    {
     "name": "stdout",
     "output_type": "stream",
     "text": [
      "Train on 6680 samples, validate on 835 samples\n",
      "Epoch 1/50\n",
      "6680/6680 [==============================] - 5s 704us/step - loss: 3.2629 - acc: 0.2837 - val_loss: 1.6089 - val_acc: 0.5892\n",
      "\n",
      "Epoch 00001: val_loss improved from inf to 1.60891, saving model to weights.best.DogXception.hdf5\n",
      "Epoch 2/50\n",
      "6680/6680 [==============================] - 4s 558us/step - loss: 1.6331 - acc: 0.5843 - val_loss: 1.2706 - val_acc: 0.6455\n",
      "\n",
      "Epoch 00002: val_loss improved from 1.60891 to 1.27062, saving model to weights.best.DogXception.hdf5\n",
      "Epoch 3/50\n",
      "6680/6680 [==============================] - 4s 534us/step - loss: 1.2157 - acc: 0.6692 - val_loss: 1.2397 - val_acc: 0.6826\n",
      "\n",
      "Epoch 00003: val_loss improved from 1.27062 to 1.23975, saving model to weights.best.DogXception.hdf5\n",
      "Epoch 4/50\n",
      "6680/6680 [==============================] - 3s 521us/step - loss: 0.9917 - acc: 0.7287 - val_loss: 0.9497 - val_acc: 0.7317\n",
      "\n",
      "Epoch 00004: val_loss improved from 1.23975 to 0.94974, saving model to weights.best.DogXception.hdf5\n",
      "Epoch 5/50\n",
      "6680/6680 [==============================] - 4s 525us/step - loss: 0.7933 - acc: 0.7772 - val_loss: 0.9716 - val_acc: 0.7629\n",
      "\n",
      "Epoch 00005: val_loss did not improve from 0.94974\n",
      "Epoch 6/50\n",
      "6680/6680 [==============================] - 3s 518us/step - loss: 0.6727 - acc: 0.8043 - val_loss: 0.9767 - val_acc: 0.7389\n",
      "\n",
      "Epoch 00006: val_loss did not improve from 0.94974\n",
      "Epoch 7/50\n",
      "6680/6680 [==============================] - 3s 515us/step - loss: 0.5934 - acc: 0.8254 - val_loss: 1.2483 - val_acc: 0.7078\n",
      "\n",
      "Epoch 00007: val_loss did not improve from 0.94974\n",
      "Epoch 8/50\n",
      "6680/6680 [==============================] - 3s 517us/step - loss: 0.5948 - acc: 0.8271 - val_loss: 1.1834 - val_acc: 0.7425\n",
      "\n",
      "Epoch 00008: val_loss did not improve from 0.94974\n",
      "Epoch 9/50\n",
      "6680/6680 [==============================] - 3s 520us/step - loss: 0.5710 - acc: 0.8433 - val_loss: 1.0482 - val_acc: 0.7665\n",
      "\n",
      "Epoch 00009: val_loss did not improve from 0.94974\n",
      "Epoch 10/50\n",
      "6680/6680 [==============================] - 3s 519us/step - loss: 0.4946 - acc: 0.8587 - val_loss: 1.1525 - val_acc: 0.7569\n",
      "\n",
      "Epoch 00010: val_loss did not improve from 0.94974\n",
      "Epoch 11/50\n",
      "6680/6680 [==============================] - 3s 517us/step - loss: 0.4695 - acc: 0.8684 - val_loss: 1.2559 - val_acc: 0.7653\n",
      "\n",
      "Epoch 00011: val_loss did not improve from 0.94974\n",
      "Epoch 12/50\n",
      "6680/6680 [==============================] - 3s 518us/step - loss: 0.4750 - acc: 0.8708 - val_loss: 1.1804 - val_acc: 0.7617\n",
      "\n",
      "Epoch 00012: val_loss did not improve from 0.94974\n",
      "Epoch 13/50\n",
      "6680/6680 [==============================] - 3s 517us/step - loss: 0.4294 - acc: 0.8823 - val_loss: 1.2885 - val_acc: 0.7533\n",
      "\n",
      "Epoch 00013: val_loss did not improve from 0.94974\n",
      "Epoch 14/50\n",
      "6680/6680 [==============================] - 3s 515us/step - loss: 0.4349 - acc: 0.8793 - val_loss: 1.2389 - val_acc: 0.7629\n",
      "\n",
      "Epoch 00014: val_loss did not improve from 0.94974\n",
      "Epoch 15/50\n",
      "6680/6680 [==============================] - 3s 511us/step - loss: 0.3478 - acc: 0.8993 - val_loss: 1.1756 - val_acc: 0.7772\n",
      "\n",
      "Epoch 00015: val_loss did not improve from 0.94974\n",
      "Epoch 16/50\n",
      "6680/6680 [==============================] - 3s 519us/step - loss: 0.3679 - acc: 0.8994 - val_loss: 1.2146 - val_acc: 0.7677\n",
      "\n",
      "Epoch 00016: val_loss did not improve from 0.94974\n",
      "Epoch 17/50\n",
      "6680/6680 [==============================] - 3s 521us/step - loss: 0.3579 - acc: 0.9064 - val_loss: 1.2997 - val_acc: 0.7653\n",
      "\n",
      "Epoch 00017: val_loss did not improve from 0.94974\n",
      "Epoch 18/50\n",
      "6680/6680 [==============================] - 3s 518us/step - loss: 0.3746 - acc: 0.9100 - val_loss: 1.4398 - val_acc: 0.7653\n",
      "\n",
      "Epoch 00018: val_loss did not improve from 0.94974\n",
      "Epoch 19/50\n",
      "6680/6680 [==============================] - 4s 580us/step - loss: 0.3818 - acc: 0.9075 - val_loss: 1.3074 - val_acc: 0.7713\n",
      "\n",
      "Epoch 00019: val_loss did not improve from 0.94974\n",
      "Epoch 20/50\n",
      "6680/6680 [==============================] - 4s 588us/step - loss: 0.3318 - acc: 0.9157 - val_loss: 1.5485 - val_acc: 0.7569\n",
      "\n",
      "Epoch 00020: val_loss did not improve from 0.94974\n",
      "Epoch 21/50\n",
      "6680/6680 [==============================] - 4s 558us/step - loss: 0.2969 - acc: 0.9205 - val_loss: 1.3642 - val_acc: 0.7713\n",
      "\n",
      "Epoch 00021: val_loss did not improve from 0.94974\n",
      "Epoch 22/50\n",
      "6680/6680 [==============================] - 4s 524us/step - loss: 0.2507 - acc: 0.9361 - val_loss: 1.5512 - val_acc: 0.7617\n",
      "\n",
      "Epoch 00022: val_loss did not improve from 0.94974\n",
      "Epoch 23/50\n",
      "6680/6680 [==============================] - 4s 551us/step - loss: 0.2472 - acc: 0.9361 - val_loss: 1.4930 - val_acc: 0.7916\n",
      "\n",
      "Epoch 00023: val_loss did not improve from 0.94974\n",
      "Epoch 24/50\n",
      "6680/6680 [==============================] - 4s 554us/step - loss: 0.2462 - acc: 0.9416 - val_loss: 1.5227 - val_acc: 0.7605\n",
      "\n",
      "Epoch 00024: val_loss did not improve from 0.94974\n",
      "Epoch 25/50\n",
      "6680/6680 [==============================] - 4s 541us/step - loss: 0.2798 - acc: 0.9367 - val_loss: 1.5965 - val_acc: 0.7605\n",
      "\n",
      "Epoch 00025: val_loss did not improve from 0.94974\n",
      "Epoch 26/50\n",
      "6680/6680 [==============================] - 3s 516us/step - loss: 0.2943 - acc: 0.9364 - val_loss: 1.5972 - val_acc: 0.7665\n",
      "\n",
      "Epoch 00026: val_loss did not improve from 0.94974\n",
      "Epoch 27/50\n",
      "6680/6680 [==============================] - 3s 515us/step - loss: 0.3311 - acc: 0.9243 - val_loss: 1.8465 - val_acc: 0.7401\n",
      "\n",
      "Epoch 00027: val_loss did not improve from 0.94974\n",
      "Epoch 28/50\n",
      "6680/6680 [==============================] - 3s 519us/step - loss: 0.2915 - acc: 0.9367 - val_loss: 1.6941 - val_acc: 0.7713\n",
      "\n",
      "Epoch 00028: val_loss did not improve from 0.94974\n",
      "Epoch 29/50\n",
      "6680/6680 [==============================] - 3s 515us/step - loss: 0.3115 - acc: 0.9370 - val_loss: 1.7860 - val_acc: 0.7737\n",
      "\n",
      "Epoch 00029: val_loss did not improve from 0.94974\n",
      "Epoch 30/50\n",
      "6680/6680 [==============================] - 3s 513us/step - loss: 0.3163 - acc: 0.9328 - val_loss: 1.5894 - val_acc: 0.7737\n",
      "\n",
      "Epoch 00030: val_loss did not improve from 0.94974\n",
      "Epoch 31/50\n",
      "6680/6680 [==============================] - 3s 514us/step - loss: 0.2954 - acc: 0.9395 - val_loss: 1.9793 - val_acc: 0.7473\n",
      "\n",
      "Epoch 00031: val_loss did not improve from 0.94974\n",
      "Epoch 32/50\n",
      "6680/6680 [==============================] - 3s 514us/step - loss: 0.2521 - acc: 0.9449 - val_loss: 1.8173 - val_acc: 0.7605\n",
      "\n",
      "Epoch 00032: val_loss did not improve from 0.94974\n",
      "Epoch 33/50\n",
      "6680/6680 [==============================] - 3s 516us/step - loss: 0.2531 - acc: 0.9510 - val_loss: 1.7600 - val_acc: 0.7677\n",
      "\n",
      "Epoch 00033: val_loss did not improve from 0.94974\n",
      "Epoch 34/50\n",
      "6680/6680 [==============================] - 3s 511us/step - loss: 0.2813 - acc: 0.9440 - val_loss: 1.8404 - val_acc: 0.7653\n",
      "\n",
      "Epoch 00034: val_loss did not improve from 0.94974\n",
      "Epoch 35/50\n",
      "6680/6680 [==============================] - 3s 509us/step - loss: 0.2024 - acc: 0.9576 - val_loss: 1.9410 - val_acc: 0.7725\n",
      "\n",
      "Epoch 00035: val_loss did not improve from 0.94974\n",
      "Epoch 36/50\n",
      "6680/6680 [==============================] - 3s 514us/step - loss: 0.2455 - acc: 0.9473 - val_loss: 1.9738 - val_acc: 0.7497\n",
      "\n",
      "Epoch 00036: val_loss did not improve from 0.94974\n",
      "Epoch 37/50\n",
      "6680/6680 [==============================] - 3s 515us/step - loss: 0.3095 - acc: 0.9434 - val_loss: 1.9066 - val_acc: 0.7749\n",
      "\n",
      "Epoch 00037: val_loss did not improve from 0.94974\n",
      "Epoch 38/50\n",
      "6680/6680 [==============================] - 3s 510us/step - loss: 0.2478 - acc: 0.9524 - val_loss: 1.9401 - val_acc: 0.7653\n",
      "\n",
      "Epoch 00038: val_loss did not improve from 0.94974\n",
      "Epoch 39/50\n",
      "6680/6680 [==============================] - 3s 512us/step - loss: 0.2554 - acc: 0.9512 - val_loss: 1.9090 - val_acc: 0.7617\n",
      "\n",
      "Epoch 00039: val_loss did not improve from 0.94974\n",
      "Epoch 40/50\n",
      "6680/6680 [==============================] - 3s 512us/step - loss: 0.2779 - acc: 0.9484 - val_loss: 2.3311 - val_acc: 0.7557\n",
      "\n",
      "Epoch 00040: val_loss did not improve from 0.94974\n",
      "Epoch 41/50\n",
      "6680/6680 [==============================] - 3s 510us/step - loss: 0.3172 - acc: 0.9460 - val_loss: 2.0437 - val_acc: 0.7737\n",
      "\n",
      "Epoch 00041: val_loss did not improve from 0.94974\n",
      "Epoch 42/50\n",
      "6680/6680 [==============================] - 3s 511us/step - loss: 0.3627 - acc: 0.9439 - val_loss: 2.0836 - val_acc: 0.7605\n",
      "\n",
      "Epoch 00042: val_loss did not improve from 0.94974\n",
      "Epoch 43/50\n",
      "6680/6680 [==============================] - 3s 513us/step - loss: 0.3256 - acc: 0.9488 - val_loss: 2.3911 - val_acc: 0.7629\n",
      "\n",
      "Epoch 00043: val_loss did not improve from 0.94974\n",
      "Epoch 44/50\n",
      "6680/6680 [==============================] - 3s 511us/step - loss: 0.2997 - acc: 0.9500 - val_loss: 2.1638 - val_acc: 0.7629\n",
      "\n",
      "Epoch 00044: val_loss did not improve from 0.94974\n",
      "Epoch 45/50\n",
      "6680/6680 [==============================] - 3s 510us/step - loss: 0.3039 - acc: 0.9481 - val_loss: 2.1797 - val_acc: 0.7737\n",
      "\n",
      "Epoch 00045: val_loss did not improve from 0.94974\n",
      "Epoch 46/50\n",
      "6680/6680 [==============================] - 4s 548us/step - loss: 0.1892 - acc: 0.9620 - val_loss: 2.3024 - val_acc: 0.7593\n",
      "\n",
      "Epoch 00046: val_loss did not improve from 0.94974\n",
      "Epoch 47/50\n",
      "6680/6680 [==============================] - 4s 550us/step - loss: 0.2134 - acc: 0.9618 - val_loss: 2.2270 - val_acc: 0.7641\n",
      "\n",
      "Epoch 00047: val_loss did not improve from 0.94974\n",
      "Epoch 48/50\n",
      "6680/6680 [==============================] - 4s 541us/step - loss: 0.3290 - acc: 0.9499 - val_loss: 2.4777 - val_acc: 0.7557\n",
      "\n",
      "Epoch 00048: val_loss did not improve from 0.94974\n",
      "Epoch 49/50\n",
      "6680/6680 [==============================] - 3s 518us/step - loss: 0.2677 - acc: 0.9500 - val_loss: 2.6633 - val_acc: 0.7437\n",
      "\n",
      "Epoch 00049: val_loss did not improve from 0.94974\n",
      "Epoch 50/50\n",
      "6680/6680 [==============================] - 3s 516us/step - loss: 0.3763 - acc: 0.9424 - val_loss: 2.3848 - val_acc: 0.7689\n",
      "\n",
      "Epoch 00050: val_loss did not improve from 0.94974\n"
     ]
    }
   ],
   "source": [
    "### TODO: Load the model weights with the best validation loss.\n",
    "checkpointer = ModelCheckpoint(filepath='weights.best.DogXception.hdf5', \n",
    "                               verbose=1, save_best_only=True)\n",
    "\n",
    "DogXception_history = model.fit(train_DogXception, train_targets, \n",
    "          validation_data=(valid_DogXception, valid_targets),\n",
    "          epochs=50, batch_size=20, callbacks=[checkpointer], verbose=1)"
   ]
  },
  {
   "cell_type": "code",
   "execution_count": 3,
   "metadata": {
    "colab": {
     "base_uri": "https://localhost:8080/",
     "height": 850
    },
    "colab_type": "code",
    "id": "YGvK7VsBdoAn",
    "outputId": "4a4d1cb9-9cc5-43dc-d873-310e5f8babd3"
   },
   "outputs": [
    {
     "name": "stdout",
     "output_type": "stream",
     "text": [
      "[[[0. 0. 0.]\n",
      "  [0. 0. 0.]\n",
      "  [0. 0. 0.]\n",
      "  ...\n",
      "  [0. 0. 0.]\n",
      "  [0. 0. 0.]\n",
      "  [0. 0. 0.]]\n",
      "\n",
      " [[0. 0. 0.]\n",
      "  [0. 0. 0.]\n",
      "  [0. 0. 0.]\n",
      "  ...\n",
      "  [0. 0. 0.]\n",
      "  [0. 0. 0.]\n",
      "  [0. 0. 0.]]\n",
      "\n",
      " [[0. 0. 0.]\n",
      "  [0. 0. 0.]\n",
      "  [0. 0. 0.]\n",
      "  ...\n",
      "  [0. 0. 0.]\n",
      "  [0. 0. 0.]\n",
      "  [0. 0. 0.]]\n",
      "\n",
      " ...\n",
      "\n",
      " [[0. 0. 0.]\n",
      "  [0. 0. 0.]\n",
      "  [0. 0. 0.]\n",
      "  ...\n",
      "  [0. 0. 0.]\n",
      "  [0. 0. 0.]\n",
      "  [0. 0. 0.]]\n",
      "\n",
      " [[0. 0. 0.]\n",
      "  [0. 0. 0.]\n",
      "  [0. 0. 0.]\n",
      "  ...\n",
      "  [0. 0. 0.]\n",
      "  [0. 0. 0.]\n",
      "  [0. 0. 0.]]\n",
      "\n",
      " [[0. 0. 0.]\n",
      "  [0. 0. 0.]\n",
      "  [0. 0. 0.]\n",
      "  ...\n",
      "  [0. 0. 0.]\n",
      "  [0. 0. 0.]\n",
      "  [0. 0. 0.]]]\n"
     ]
    }
   ],
   "source": [
    "zero = np.zeros((224, 224, 3))\n",
    "print(zero)"
   ]
  },
  {
   "cell_type": "code",
   "execution_count": 1,
   "metadata": {
    "colab": {
     "base_uri": "https://localhost:8080/",
     "height": 232
    },
    "colab_type": "code",
    "id": "xPPsfj14ihrg",
    "outputId": "f487cfa0-5d42-4f75-f0af-1470587b5098"
   },
   "outputs": [
    {
     "ename": "ValueError",
     "evalue": "ignored",
     "output_type": "error",
     "traceback": [
      "\u001b[0;31m---------------------------------------------------------------------------\u001b[0m",
      "\u001b[0;31mValueError\u001b[0m                                Traceback (most recent call last)",
      "\u001b[0;32m<ipython-input-1-da420f228031>\u001b[0m in \u001b[0;36m<module>\u001b[0;34m()\u001b[0m\n\u001b[1;32m      1\u001b[0m \u001b[0;32mimport\u001b[0m \u001b[0mnumpy\u001b[0m \u001b[0;32mas\u001b[0m \u001b[0mnp\u001b[0m\u001b[0;34m\u001b[0m\u001b[0;34m\u001b[0m\u001b[0m\n\u001b[1;32m      2\u001b[0m \u001b[0;34m\u001b[0m\u001b[0m\n\u001b[0;32m----> 3\u001b[0;31m \u001b[0mn_array\u001b[0m \u001b[0;34m=\u001b[0m \u001b[0mnp\u001b[0m\u001b[0;34m.\u001b[0m\u001b[0marange\u001b[0m\u001b[0;34m(\u001b[0m\u001b[0;36m18\u001b[0m\u001b[0;34m)\u001b[0m\u001b[0;34m.\u001b[0m\u001b[0mreshape\u001b[0m\u001b[0;34m(\u001b[0m\u001b[0;36m224\u001b[0m\u001b[0;34m,\u001b[0m \u001b[0;36m224\u001b[0m\u001b[0;34m,\u001b[0m \u001b[0;36m3\u001b[0m\u001b[0;34m)\u001b[0m\u001b[0;34m\u001b[0m\u001b[0;34m\u001b[0m\u001b[0m\n\u001b[0m\u001b[1;32m      4\u001b[0m \u001b[0;34m\u001b[0m\u001b[0m\n\u001b[1;32m      5\u001b[0m \u001b[0;34m\u001b[0m\u001b[0m\n",
      "\u001b[0;31mValueError\u001b[0m: cannot reshape array of size 18 into shape (224,224,3)"
     ]
    }
   ],
   "source": [
    "import numpy as np\n",
    "\n",
    "n_array = np.arange(18).reshape(224, 224, 3)\n",
    "\n",
    "\n",
    "zero = np.zeros((3, 3, 2))\n",
    "print(n_array.shape)\n",
    "print(zero.shape)\n",
    "\n",
    "print(n_array)\n",
    "print(zero)\n",
    "\n",
    "array_list = np.append(n_array, n_array, axis = 1)\n",
    "array_list = np.append(array_list, zero, axis = 1)\n",
    "print(array_list)\n",
    "print(array_list.shape)\n",
    "\n",
    "result = np.where(array_list == zero)\n",
    "print(result)"
   ]
  }
 ],
 "metadata": {
  "accelerator": "GPU",
  "colab": {
   "collapsed_sections": [],
   "name": "dog_app-augmentation.ipynb",
   "provenance": [],
   "version": "0.3.2"
  },
  "kernelspec": {
   "display_name": "Python 3",
   "language": "python",
   "name": "python3"
  },
  "language_info": {
   "codemirror_mode": {
    "name": "ipython",
    "version": 3
   },
   "file_extension": ".py",
   "mimetype": "text/x-python",
   "name": "python",
   "nbconvert_exporter": "python",
   "pygments_lexer": "ipython3",
   "version": "3.7.1"
  }
 },
 "nbformat": 4,
 "nbformat_minor": 1
}
